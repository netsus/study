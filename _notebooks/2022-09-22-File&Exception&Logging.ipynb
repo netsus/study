{
 "cells": [
  {
   "cell_type": "markdown",
   "id": "ce39d5b5",
   "metadata": {},
   "source": [
    "## 학습 목표\n",
    "프로그램을 제대로 만들기 위해 알아야하는 3가지 정리\n",
    "1. 예외 처리(Exception)\n",
    "2. 파일에 존재하는 데이터 읽고 쓰기(File)\n",
    "3. 프로그램을 진행하면서 기록을 남기는 로깅(Log)"
   ]
  },
  {
   "cell_type": "markdown",
   "id": "1b65b029",
   "metadata": {},
   "source": [
    "## 예외 처리(Exception)\n",
    "1. 예상 가능한 예외\n",
    "    - 사전에 인지할 수 있는 예외 -> 명시적으로 정의해야 한다.<br>\n",
    "    ex) 사용자의 잘못된 입력\n",
    "    - python에선 exception을 발생시키고, exception handling으로 처리.\n",
    "    \n",
    "2. 예상이 불가능한 예외\n",
    "    - 인터프리터 과정에서 발생하는 예외 (고려하지 못한 경우로인해 발생) -> 인터프리터가 자동으로 에러메시지호출<br>\n",
    "    ex) 정수 0으로 나눔. 오타"
   ]
  },
  {
   "cell_type": "markdown",
   "id": "368614d6",
   "metadata": {},
   "source": [
    "### 예외처리 문법\n",
    "- try ~ except 문법 사용\n",
    "- try ~ except ~ else ~ finaaly로 쓸 수도 있음"
   ]
  },
  {
   "cell_type": "code",
   "execution_count": 3,
   "id": "50347dac",
   "metadata": {
    "ExecuteTime": {
     "end_time": "2022-09-22T02:42:56.346128Z",
     "start_time": "2022-09-22T02:42:56.334853Z"
    }
   },
   "outputs": [
    {
     "name": "stdout",
     "output_type": "stream",
     "text": [
      "10을 0로 나누면  0으로 나누면 무한대!\n",
      "10을 1로 나누면  10.0\n",
      "10을 2로 나누면  5.0\n",
      "10을 3로 나누면  3.3333333333333335\n",
      "10을 4로 나누면  2.5\n"
     ]
    }
   ],
   "source": [
    "for i in range(5):\n",
    "    print(f\"10을 {i}로 나누면 \",end=' ')\n",
    "    try:\n",
    "        print(10/i)\n",
    "    except ZeroDivisionError:\n",
    "        print(\"0으로 나누면 무한대!\")"
   ]
  },
  {
   "cell_type": "markdown",
   "id": "815c864b",
   "metadata": {},
   "source": [
    "### Built-in Exception\n",
    "파이썬에서 기본적으로 제공하는 예외\n",
    "1. IndexError : List의 인덱스 범위 넘어갈 때\n",
    "2. NameError : 존재하지 않는 변수 호출\n",
    "3. ZeroDivisionError : 0으로 수를 나눌때\n",
    "4. ValueError : 변환할 수 없는 문자/숫자를 변환할 때\n",
    "5. FileNotFoundError : 존재하지 않는 파일 호출시"
   ]
  },
  {
   "cell_type": "markdown",
   "id": "653f3a7c",
   "metadata": {},
   "source": [
    "### raise 구문\n",
    "- 강제로 Exception을 발생\n",
    "```python\n",
    "raise <Exception Type>(예외정보)\n",
    "(ex) raise ValueError(\"값이 없다!\")\n",
    "```"
   ]
  },
  {
   "cell_type": "markdown",
   "id": "fc3f3a9b",
   "metadata": {},
   "source": [
    "### assert 구문\n",
    "- 논리가 False로 나오면 예외 발생\n",
    "```python\n",
    "assert 예외 조건\n",
    "assert a==b # a와 b가 다르면 예외 발생\n",
    "```"
   ]
  },
  {
   "cell_type": "markdown",
   "id": "29f9d1ce",
   "metadata": {},
   "source": [
    "## File Handling\n",
    "- 파일은 기본적으로 text파일과 binary 파일로 나뉜다.\n",
    "- 파이썬에선 파일 처리를 위해 \"open\" 키워드를 사용한다."
   ]
  },
  {
   "cell_type": "markdown",
   "id": "9c39471b",
   "metadata": {
    "ExecuteTime": {
     "end_time": "2022-07-01T02:37:56.835004Z",
     "start_time": "2022-07-01T02:37:56.621637Z"
    }
   },
   "source": [
    "### os module\n",
    "- os 모듈을 사용하여 Directory를 다룰 수 있다.<br>\n",
    "Ex)\n",
    "```python\n",
    "import os\n",
    "os.mkdir(\"log\") # log 디렉토리 생성\n",
    "```"
   ]
  },
  {
   "cell_type": "markdown",
   "id": "979a8ecb",
   "metadata": {},
   "source": [
    "#### 디렉토리 생성"
   ]
  },
  {
   "cell_type": "code",
   "execution_count": 2,
   "id": "8ba98f77",
   "metadata": {
    "ExecuteTime": {
     "end_time": "2022-07-01T02:50:13.975183Z",
     "start_time": "2022-07-01T02:50:13.972222Z"
    }
   },
   "outputs": [],
   "source": [
    "import os\n",
    "os.mkdir(\"log\")"
   ]
  },
  {
   "cell_type": "code",
   "execution_count": 3,
   "id": "86de35d4",
   "metadata": {
    "ExecuteTime": {
     "end_time": "2022-07-01T02:51:06.412220Z",
     "start_time": "2022-07-01T02:51:06.404960Z"
    }
   },
   "outputs": [
    {
     "name": "stdout",
     "output_type": "stream",
     "text": [
      "Already created\n"
     ]
    }
   ],
   "source": [
    "try:\n",
    "    os.mkdir(\"log\")\n",
    "except:\n",
    "    print(\"Already created\")"
   ]
  },
  {
   "cell_type": "markdown",
   "id": "b14254b4",
   "metadata": {
    "ExecuteTime": {
     "end_time": "2022-07-01T03:34:09.108597Z",
     "start_time": "2022-07-01T03:34:09.104186Z"
    }
   },
   "source": [
    "#### 파일 or 디렉토리 존재 확인"
   ]
  },
  {
   "cell_type": "code",
   "execution_count": 6,
   "id": "c7f3957c",
   "metadata": {
    "ExecuteTime": {
     "end_time": "2022-07-01T02:51:42.842376Z",
     "start_time": "2022-07-01T02:51:42.828688Z"
    }
   },
   "outputs": [
    {
     "data": {
      "text/plain": [
       "True"
      ]
     },
     "execution_count": 6,
     "metadata": {},
     "output_type": "execute_result"
    }
   ],
   "source": [
    "# 파일 or 폴더가 이미 존재하는지 확인\n",
    "os.path.exists(\"log\")"
   ]
  },
  {
   "cell_type": "code",
   "execution_count": 9,
   "id": "b1fedd3a",
   "metadata": {
    "ExecuteTime": {
     "end_time": "2022-07-01T02:52:25.971261Z",
     "start_time": "2022-07-01T02:52:25.960773Z"
    }
   },
   "outputs": [
    {
     "data": {
      "text/plain": [
       "True"
      ]
     },
     "execution_count": 9,
     "metadata": {},
     "output_type": "execute_result"
    }
   ],
   "source": [
    "# 폴더말고 파일이 존재하는지 확인\n",
    "os.path.isfile(\"file.ipynb\")"
   ]
  },
  {
   "cell_type": "markdown",
   "id": "963e33d2",
   "metadata": {},
   "source": [
    "### shutil module - 파일 복사"
   ]
  },
  {
   "cell_type": "code",
   "execution_count": 11,
   "id": "12109e7e",
   "metadata": {
    "ExecuteTime": {
     "end_time": "2022-07-01T02:54:38.823323Z",
     "start_time": "2022-07-01T02:54:38.809080Z"
    }
   },
   "outputs": [
    {
     "data": {
      "text/plain": [
       "'log/test.txt'"
      ]
     },
     "execution_count": 11,
     "metadata": {},
     "output_type": "execute_result"
    }
   ],
   "source": [
    "import shutil\n",
    "\n",
    "source= \"README.md\"\n",
    "# os.path.join쓰는 이유: 파일 경로를 합칠 때 seperator가 OS마다 다르다. \n",
    "# 윈도우:₩₩, Mac, Linux:/, 등등\n",
    "dest = os.path.join(\"log\",\"test.txt\")\n",
    "dest"
   ]
  },
  {
   "cell_type": "code",
   "execution_count": 12,
   "id": "20cc93d5",
   "metadata": {
    "ExecuteTime": {
     "end_time": "2022-07-01T02:55:47.805599Z",
     "start_time": "2022-07-01T02:55:47.796596Z"
    }
   },
   "outputs": [
    {
     "data": {
      "text/plain": [
       "'log/test.txt'"
      ]
     },
     "execution_count": 12,
     "metadata": {},
     "output_type": "execute_result"
    }
   ],
   "source": [
    "## shutil - 파일 복사\n",
    "shutil.copy(source,dest)"
   ]
  },
  {
   "cell_type": "code",
   "execution_count": 13,
   "id": "dc4dd45f",
   "metadata": {
    "ExecuteTime": {
     "end_time": "2022-07-01T02:55:54.240041Z",
     "start_time": "2022-07-01T02:55:54.100043Z"
    }
   },
   "outputs": [
    {
     "name": "stdout",
     "output_type": "stream",
     "text": [
      "test.txt\r\n"
     ]
    }
   ],
   "source": [
    "!ls log"
   ]
  },
  {
   "cell_type": "markdown",
   "id": "8b52a000",
   "metadata": {
    "ExecuteTime": {
     "end_time": "2022-07-01T03:33:00.082753Z",
     "start_time": "2022-07-01T03:33:00.075866Z"
    }
   },
   "source": [
    "### pathlib - path를 객체로 다룸"
   ]
  },
  {
   "cell_type": "code",
   "execution_count": 4,
   "id": "c618ae68",
   "metadata": {
    "ExecuteTime": {
     "end_time": "2022-09-22T02:53:13.082177Z",
     "start_time": "2022-09-22T02:53:13.073748Z"
    }
   },
   "outputs": [
    {
     "data": {
      "text/plain": [
       "PosixPath('/Users/cwj/ToyProject/00_data_analysis/00_BoostCamp/week1_python')"
      ]
     },
     "execution_count": 4,
     "metadata": {},
     "output_type": "execute_result"
    }
   ],
   "source": [
    "import pathlib\n",
    "cwd = pathlib.Path.cwd()\n",
    "cwd"
   ]
  },
  {
   "cell_type": "code",
   "execution_count": 6,
   "id": "b8a8135c",
   "metadata": {
    "ExecuteTime": {
     "end_time": "2022-09-22T02:54:36.564638Z",
     "start_time": "2022-09-22T02:54:36.549701Z"
    }
   },
   "outputs": [
    {
     "data": {
      "text/plain": [
       "PosixPath('/Users/cwj/ToyProject/00_data_analysis/00_BoostCamp/week1_python/adsf')"
      ]
     },
     "execution_count": 6,
     "metadata": {},
     "output_type": "execute_result"
    }
   ],
   "source": [
    "# 바로 슬래쉬를 쓸 수 있다.\n",
    "cwd / \"adsf\""
   ]
  },
  {
   "cell_type": "code",
   "execution_count": 14,
   "id": "d7f8f2d0",
   "metadata": {
    "ExecuteTime": {
     "end_time": "2022-09-22T02:56:09.710347Z",
     "start_time": "2022-09-22T02:56:09.699500Z"
    }
   },
   "outputs": [
    {
     "data": {
      "text/plain": [
       "[PosixPath('/Users/cwj/ToyProject/00_data_analysis/00_BoostCamp/week1_python/4_1_Python_OOP.ipynb'),\n",
       " PosixPath('/Users/cwj/ToyProject/00_data_analysis/00_BoostCamp/week1_python/3_1_Python_Data_Structure.ipynb'),\n",
       " PosixPath('/Users/cwj/ToyProject/00_data_analysis/00_BoostCamp/week1_python/5_1_File&Exception&Log.ipynb'),\n",
       " PosixPath('/Users/cwj/ToyProject/00_data_analysis/00_BoostCamp/week1_python/2_1_Variables.ipynb')]"
      ]
     },
     "execution_count": 14,
     "metadata": {},
     "output_type": "execute_result"
    }
   ],
   "source": [
    "# 현재 디렉토리 내용 보기\n",
    "list(cwd.glob(\"*1*\"))"
   ]
  },
  {
   "cell_type": "code",
   "execution_count": 20,
   "id": "1a7a5d9b",
   "metadata": {
    "ExecuteTime": {
     "end_time": "2022-07-01T03:35:57.766088Z",
     "start_time": "2022-07-01T03:35:57.761679Z"
    }
   },
   "outputs": [
    {
     "name": "stdout",
     "output_type": "stream",
     "text": [
      "/Users/cwj/ToyProject/00_data_analysis/boostcourse\n",
      "/Users/cwj/ToyProject/00_data_analysis\n"
     ]
    }
   ],
   "source": [
    "# Path가 객체기 때문에 parent, parent의 parent 이런식으로 편하게 접근 가능\n",
    "print(cwd.parent)\n",
    "print(cwd.parent.parent)"
   ]
  },
  {
   "cell_type": "code",
   "execution_count": 23,
   "id": "84ddf12c",
   "metadata": {
    "ExecuteTime": {
     "end_time": "2022-07-01T03:36:23.691833Z",
     "start_time": "2022-07-01T03:36:23.682017Z"
    }
   },
   "outputs": [
    {
     "data": {
      "text/plain": [
       "[PosixPath('/Users/cwj/ToyProject/00_data_analysis/boostcourse'),\n",
       " PosixPath('/Users/cwj/ToyProject/00_data_analysis'),\n",
       " PosixPath('/Users/cwj/ToyProject'),\n",
       " PosixPath('/Users/cwj'),\n",
       " PosixPath('/Users'),\n",
       " PosixPath('/')]"
      ]
     },
     "execution_count": 23,
     "metadata": {},
     "output_type": "execute_result"
    }
   ],
   "source": [
    "# 모든 부모 경로도 가능\n",
    "list(cwd.parents)"
   ]
  },
  {
   "attachments": {},
   "cell_type": "markdown",
   "id": "76e580e7",
   "metadata": {},
   "source": [
    "### Pickle\n",
    "- 파이썬의 객체를 파일로 저장하게 해주는 built-in 객체\n",
    "- 데이터, object등 실행중 정보를 저장 -> 불러와서 사용 가능\n",
    "- 저장해야하는 정보, 모델 등 활용이 많음"
   ]
  },
  {
   "cell_type": "markdown",
   "id": "96649841",
   "metadata": {},
   "source": [
    "#### list 다루기"
   ]
  },
  {
   "cell_type": "code",
   "execution_count": 1,
   "id": "049a5302",
   "metadata": {
    "ExecuteTime": {
     "end_time": "2022-07-01T07:30:05.312030Z",
     "start_time": "2022-07-01T07:30:05.298942Z"
    }
   },
   "outputs": [],
   "source": [
    "import pickle\n",
    "\n",
    "li=[0,1,2,3,4,5]\n",
    "## pickle은 python에 특화된 binary 파일이다.\n",
    "with open(\"list.pickle\",\"wb\") as f:\n",
    "    pickle.dump(li, f) # 위에서 생성한 리스트를 list.pickle로 저장    \n",
    "\n",
    "with open(\"list.pickle\",\"rb\") as fi:\n",
    "    test = pickle.load(fi) # list.pickle 읽어서 출력 -> list 잘 불러와졌다."
   ]
  },
  {
   "cell_type": "code",
   "execution_count": 90,
   "id": "53cd9627",
   "metadata": {
    "ExecuteTime": {
     "end_time": "2022-07-01T07:24:28.589814Z",
     "start_time": "2022-07-01T07:24:28.581983Z"
    }
   },
   "outputs": [
    {
     "name": "stdout",
     "output_type": "stream",
     "text": [
      "<class 'list'>\n",
      "[0, 1, 2, 3, 4, 5]\n"
     ]
    }
   ],
   "source": [
    "# pickle로 불러온 test의 type과 값 출력\n",
    "print(type(test))\n",
    "print(test)"
   ]
  },
  {
   "cell_type": "markdown",
   "id": "2aed492f",
   "metadata": {},
   "source": [
    "#### 데이터프레임 다루기"
   ]
  },
  {
   "cell_type": "code",
   "execution_count": 7,
   "id": "26564225",
   "metadata": {
    "ExecuteTime": {
     "end_time": "2022-07-01T07:30:50.222320Z",
     "start_time": "2022-07-01T07:30:50.206913Z"
    }
   },
   "outputs": [
    {
     "data": {
      "text/html": [
       "<div>\n",
       "<style scoped>\n",
       "    .dataframe tbody tr th:only-of-type {\n",
       "        vertical-align: middle;\n",
       "    }\n",
       "\n",
       "    .dataframe tbody tr th {\n",
       "        vertical-align: top;\n",
       "    }\n",
       "\n",
       "    .dataframe thead th {\n",
       "        text-align: right;\n",
       "    }\n",
       "</style>\n",
       "<table border=\"1\" class=\"dataframe\">\n",
       "  <thead>\n",
       "    <tr style=\"text-align: right;\">\n",
       "      <th></th>\n",
       "      <th>A</th>\n",
       "      <th>B</th>\n",
       "    </tr>\n",
       "  </thead>\n",
       "  <tbody>\n",
       "    <tr>\n",
       "      <th>0</th>\n",
       "      <td>0</td>\n",
       "      <td>2</td>\n",
       "    </tr>\n",
       "    <tr>\n",
       "      <th>1</th>\n",
       "      <td>1</td>\n",
       "      <td>3</td>\n",
       "    </tr>\n",
       "  </tbody>\n",
       "</table>\n",
       "</div>"
      ],
      "text/plain": [
       "   A  B\n",
       "0  0  2\n",
       "1  1  3"
      ]
     },
     "execution_count": 7,
     "metadata": {},
     "output_type": "execute_result"
    }
   ],
   "source": [
    "import pandas as pd\n",
    "df = pd.DataFrame({'A':[0,1],'B':[2,3]})\n",
    "df"
   ]
  },
  {
   "cell_type": "code",
   "execution_count": 10,
   "id": "2c69a875",
   "metadata": {
    "ExecuteTime": {
     "end_time": "2022-07-01T07:31:16.170609Z",
     "start_time": "2022-07-01T07:31:16.158884Z"
    }
   },
   "outputs": [
    {
     "name": "stdout",
     "output_type": "stream",
     "text": [
      "<class 'pandas.core.frame.DataFrame'>\n"
     ]
    },
    {
     "data": {
      "text/html": [
       "<div>\n",
       "<style scoped>\n",
       "    .dataframe tbody tr th:only-of-type {\n",
       "        vertical-align: middle;\n",
       "    }\n",
       "\n",
       "    .dataframe tbody tr th {\n",
       "        vertical-align: top;\n",
       "    }\n",
       "\n",
       "    .dataframe thead th {\n",
       "        text-align: right;\n",
       "    }\n",
       "</style>\n",
       "<table border=\"1\" class=\"dataframe\">\n",
       "  <thead>\n",
       "    <tr style=\"text-align: right;\">\n",
       "      <th></th>\n",
       "      <th>A</th>\n",
       "      <th>B</th>\n",
       "    </tr>\n",
       "  </thead>\n",
       "  <tbody>\n",
       "    <tr>\n",
       "      <th>0</th>\n",
       "      <td>0</td>\n",
       "      <td>2</td>\n",
       "    </tr>\n",
       "    <tr>\n",
       "      <th>1</th>\n",
       "      <td>1</td>\n",
       "      <td>3</td>\n",
       "    </tr>\n",
       "  </tbody>\n",
       "</table>\n",
       "</div>"
      ],
      "text/plain": [
       "   A  B\n",
       "0  0  2\n",
       "1  1  3"
      ]
     },
     "execution_count": 10,
     "metadata": {},
     "output_type": "execute_result"
    }
   ],
   "source": [
    "## pickle은 python에 특화된 binary 파일이다.\n",
    "with open(\"df.pickle\",\"wb\") as f:\n",
    "    pickle.dump(df, f) # 위에서 생성한 데이터 프레임을 df.pickle로 저장    \n",
    "\n",
    "with open(\"df.pickle\",\"rb\") as fi:\n",
    "    test = pickle.load(fi) # df.pickle 읽기\n",
    "# 출력해보면 pandas의 데이터프레임이 그대로 잘 출력됨.\n",
    "print(type(test))\n",
    "test"
   ]
  },
  {
   "cell_type": "markdown",
   "id": "870ffc6f",
   "metadata": {},
   "source": [
    "#### 함수 다루기"
   ]
  },
  {
   "cell_type": "code",
   "execution_count": 14,
   "id": "980ed876",
   "metadata": {
    "ExecuteTime": {
     "end_time": "2022-07-01T07:32:27.618988Z",
     "start_time": "2022-07-01T07:32:27.610997Z"
    }
   },
   "outputs": [
    {
     "name": "stdout",
     "output_type": "stream",
     "text": [
      "<built-in function array>\n"
     ]
    }
   ],
   "source": [
    "import numpy as np\n",
    "print(np.array)"
   ]
  },
  {
   "cell_type": "code",
   "execution_count": 15,
   "id": "4fb6d9d4",
   "metadata": {
    "ExecuteTime": {
     "end_time": "2022-07-01T07:58:15.895477Z",
     "start_time": "2022-07-01T07:58:15.885956Z"
    }
   },
   "outputs": [
    {
     "name": "stdout",
     "output_type": "stream",
     "text": [
      "<class 'numpy.ndarray'>\n",
      "[0 1 2 3 4 5 6 7 8 9]\n"
     ]
    }
   ],
   "source": [
    "with open(\"array.pickle\",\"wb\") as f:\n",
    "    pickle.dump(np.array, f)\n",
    "with open(\"array.pickle\",\"rb\") as fi:\n",
    "    arr = pickle.load(fi)\n",
    "\n",
    "k = arr(list(range(10)))\n",
    "print(type(k))\n",
    "print(k)"
   ]
  },
  {
   "cell_type": "markdown",
   "id": "ad6636c2",
   "metadata": {},
   "source": [
    "#### 클래스 다루기"
   ]
  },
  {
   "cell_type": "code",
   "execution_count": 16,
   "id": "13e674f9",
   "metadata": {
    "ExecuteTime": {
     "end_time": "2022-07-01T08:05:28.014427Z",
     "start_time": "2022-07-01T08:05:28.000686Z"
    }
   },
   "outputs": [
    {
     "data": {
      "text/plain": [
       "9"
      ]
     },
     "execution_count": 16,
     "metadata": {},
     "output_type": "execute_result"
    }
   ],
   "source": [
    "# 클래스 내부에 multiplier 값을 저장\n",
    "# 이후에 multiply 메소드에 들어오는 값을 multiplier와 곱해서 반환\n",
    "class Multiply(object):\n",
    "    def __init__(self, multiplier):\n",
    "        self.multiplier = multiplier\n",
    "        \n",
    "    def multiply(self, num):\n",
    "        return num * self.multiplier\n",
    "\n",
    "mply = Multiply(3) # multiplier를 3으로 지정\n",
    "mply.multiply(3) # multiplier * 3 반환 => 9"
   ]
  },
  {
   "cell_type": "code",
   "execution_count": 96,
   "id": "53145efe",
   "metadata": {
    "ExecuteTime": {
     "end_time": "2022-07-01T07:24:57.990768Z",
     "start_time": "2022-07-01T07:24:57.977841Z"
    }
   },
   "outputs": [
    {
     "name": "stdout",
     "output_type": "stream",
     "text": [
      "<class '__main__.Multiply'>\n"
     ]
    },
    {
     "data": {
      "text/plain": [
       "30"
      ]
     },
     "execution_count": 96,
     "metadata": {},
     "output_type": "execute_result"
    }
   ],
   "source": [
    "with open(\"mply_object.pickle\",\"wb\") as f:\n",
    "    pickle.dump(mply, f)\n",
    "\n",
    "with open(\"mply_object.pickle\",\"rb\") as fi:\n",
    "    mply_pickle = pickle.load(fi)    \n",
    "\n",
    "print(type(mply_pickle))\n",
    "mply_pickle.multiply(10)"
   ]
  },
  {
   "cell_type": "markdown",
   "id": "43bab65e",
   "metadata": {},
   "source": [
    "## Logging\n",
    "프로그램이 실행되는 동안의 정보를 남기는 것\n",
    "- 남기는 내용: 유저의 행동, Exception \n",
    "- 어디에 남기는지: Console, 파일, DB\n",
    "- 로그를 분석하여 의미있는 결과를 도출할 수 있다.\n",
    "- 실행 시점에 남겨야하는 기록, 개발시점에 남겨야하는 기록이 있다"
   ]
  },
  {
   "cell_type": "code",
   "execution_count": 24,
   "id": "632ca08a",
   "metadata": {
    "ExecuteTime": {
     "end_time": "2022-09-22T03:06:59.848802Z",
     "start_time": "2022-09-22T03:06:59.841543Z"
    }
   },
   "outputs": [
    {
     "name": "stderr",
     "output_type": "stream",
     "text": [
      "CRITICAL:root:크~리티컬! 힛트!\n"
     ]
    }
   ],
   "source": [
    "import logging\n",
    "logging.critical(\"크~리티컬! 힛트!\")"
   ]
  },
  {
   "cell_type": "markdown",
   "id": "43834a65",
   "metadata": {},
   "source": [
    "### Logging level\n",
    "- DEBUG > INFO > WARNIGN > ERROR > Critical\n",
    "- 시점에 따라 다른 log가 남을 수 있도록 지원"
   ]
  },
  {
   "cell_type": "code",
   "execution_count": 49,
   "id": "a08c986c",
   "metadata": {
    "ExecuteTime": {
     "end_time": "2022-09-22T03:16:25.696099Z",
     "start_time": "2022-09-22T03:16:25.678846Z"
    }
   },
   "outputs": [
    {
     "name": "stderr",
     "output_type": "stream",
     "text": [
      "WARNING:main:워닝\n",
      "ERROR:main:에뤄\n",
      "CRITICAL:main:크뤼티칼!\n"
     ]
    }
   ],
   "source": [
    "import logging\n",
    "\n",
    "if __name__=='__main__':\n",
    "    logger = logging.getLogger(\"main\")\n",
    "    # default 레벨은 warning부터\n",
    "    # level을 Debug로 바꿔서 모든 로깅 다 나오게 설정\n",
    "    logging.basicConfig(level=logging.DEBUG) \n",
    "    \n",
    "    logger.debug(\"디버그\")\n",
    "    logger.info(\"인포\")\n",
    "    logger.warning(\"워닝\")\n",
    "    logger.error(\"에뤄\")\n",
    "    logger.critical(\"크뤼티칼!\")"
   ]
  },
  {
   "cell_type": "code",
   "execution_count": 45,
   "id": "2fbc1468",
   "metadata": {
    "ExecuteTime": {
     "end_time": "2022-09-22T03:11:33.217455Z",
     "start_time": "2022-09-22T03:11:33.212401Z"
    }
   },
   "outputs": [],
   "source": [
    "import logging\n",
    "logger = logging.getLogger(\"mylogger\") # Logger 선언\n",
    "stream_handler = logging.StreamHandler() # Logger의 output 방법 선언\n",
    "logger.addHandler(stream_handler) # Logger의 output 등록\n",
    "\n",
    "logging.basicConfig(level=logging.DEBUG) # python 3.8 이후의 레벨 설정\n",
    "# logger.setLevel(logging.DEBUG) # 레벨 설정"
   ]
  },
  {
   "cell_type": "code",
   "execution_count": 46,
   "id": "134616b7",
   "metadata": {
    "ExecuteTime": {
     "end_time": "2022-09-22T03:11:33.642087Z",
     "start_time": "2022-09-22T03:11:33.628402Z"
    }
   },
   "outputs": [
    {
     "name": "stderr",
     "output_type": "stream",
     "text": [
      "디~버그!\n",
      "DEBUG:mylogger:디~버그!\n"
     ]
    }
   ],
   "source": [
    "logger.debug(\"디~버그!\")"
   ]
  },
  {
   "cell_type": "code",
   "execution_count": 47,
   "id": "0550ff52",
   "metadata": {
    "ExecuteTime": {
     "end_time": "2022-09-22T03:11:36.859825Z",
     "start_time": "2022-09-22T03:11:36.848591Z"
    }
   },
   "outputs": [
    {
     "data": {
      "text/plain": [
       "[<StreamHandler stderr (NOTSET)>]"
      ]
     },
     "execution_count": 47,
     "metadata": {},
     "output_type": "execute_result"
    }
   ],
   "source": [
    "logger.handlers # 핸들러 종류 보기"
   ]
  },
  {
   "cell_type": "code",
   "execution_count": 43,
   "id": "c1f52fe1",
   "metadata": {
    "ExecuteTime": {
     "end_time": "2022-09-22T03:11:30.204877Z",
     "start_time": "2022-09-22T03:11:30.199831Z"
    }
   },
   "outputs": [],
   "source": [
    "logger.handlers.clear() # 핸들러 클리어"
   ]
  },
  {
   "attachments": {},
   "cell_type": "markdown",
   "id": "1734b7da",
   "metadata": {},
   "source": [
    "### Logging 설정\n",
    "1. configparser - 파일에 설정\n",
    "2. argparser - 실행시점에 설정"
   ]
  },
  {
   "cell_type": "markdown",
   "id": "3ddd0659",
   "metadata": {},
   "source": [
    "#### configparser\n",
    "\n",
    "- Section, Key, Value 값의 형태의 환경설정 File 사용\n",
    "- 설정 파일을 Dict Type으로 호출해서 사용"
   ]
  },
  {
   "cell_type": "code",
   "execution_count": 50,
   "id": "1683ceea",
   "metadata": {
    "ExecuteTime": {
     "end_time": "2022-09-22T03:17:28.958898Z",
     "start_time": "2022-09-22T03:17:28.827082Z"
    }
   },
   "outputs": [
    {
     "name": "stdout",
     "output_type": "stream",
     "text": [
      "[SectionOne]\r\n",
      "Status: Single\r\n",
      "Name: Derek\r\n",
      "Value: Yes\r\n",
      "Age: 30\r\n",
      "Single: True\r\n",
      "\r\n",
      "[SectionTwo]\r\n",
      "FavoriteColor = Green\r\n",
      "\r\n",
      "[SectionThree]\r\n",
      "FamilyName: Johnson"
     ]
    }
   ],
   "source": [
    "!cat example.cfg"
   ]
  },
  {
   "cell_type": "code",
   "execution_count": 51,
   "id": "81eedd4e",
   "metadata": {
    "ExecuteTime": {
     "end_time": "2022-09-22T03:17:29.372063Z",
     "start_time": "2022-09-22T03:17:29.355746Z"
    }
   },
   "outputs": [
    {
     "data": {
      "text/plain": [
       "['SectionOne', 'SectionTwo', 'SectionThree']"
      ]
     },
     "execution_count": 51,
     "metadata": {},
     "output_type": "execute_result"
    }
   ],
   "source": [
    "import configparser\n",
    "config = configparser.ConfigParser()\n",
    "config.sections()\n",
    "config.read('example.cfg')\n",
    "config.sections()"
   ]
  },
  {
   "cell_type": "code",
   "execution_count": 52,
   "id": "e20d8de7",
   "metadata": {
    "ExecuteTime": {
     "end_time": "2022-09-22T03:17:30.363307Z",
     "start_time": "2022-09-22T03:17:30.356306Z"
    }
   },
   "outputs": [
    {
     "name": "stdout",
     "output_type": "stream",
     "text": [
      "config 타입: <class 'configparser.ConfigParser'>\n",
      "cofig: <configparser.ConfigParser object at 0x106fe8d30>\n"
     ]
    }
   ],
   "source": [
    "print(f\"config 타입: {type(config)}\\ncofig: {config}\")"
   ]
  },
  {
   "cell_type": "code",
   "execution_count": 58,
   "id": "5173774a",
   "metadata": {
    "ExecuteTime": {
     "end_time": "2022-09-22T03:19:39.181482Z",
     "start_time": "2022-09-22T03:19:39.170525Z"
    }
   },
   "outputs": [
    {
     "name": "stdout",
     "output_type": "stream",
     "text": [
      "status : Single\n",
      "name : Derek\n",
      "value : Yes\n",
      "age : 30\n",
      "single : True\n"
     ]
    },
    {
     "data": {
      "text/plain": [
       "'Single'"
      ]
     },
     "execution_count": 58,
     "metadata": {},
     "output_type": "execute_result"
    }
   ],
   "source": [
    "# config의 SectionOne key값 출력\n",
    "for key in config['SectionOne']:\n",
    "    value = config['SectionOne'][key]\n",
    "    print(f\"{key} : {value}\")\n",
    "# config의 SectionOne status의 값 출력 (대소문자 상관없는듯)    \n",
    "config['SectionOne'][\"status\"]"
   ]
  },
  {
   "cell_type": "markdown",
   "id": "ee18775c",
   "metadata": {},
   "source": [
    "#### argparser\n",
    "- Command-Line Option으로 프로그램 실행시 세팅\n",
    "- 대부분의 Console 기반 Python 프로그램이 기본으로 제공"
   ]
  },
  {
   "cell_type": "code",
   "execution_count": 60,
   "id": "528428e6",
   "metadata": {
    "ExecuteTime": {
     "end_time": "2022-09-22T03:21:06.642098Z",
     "start_time": "2022-09-22T03:21:04.548408Z"
    }
   },
   "outputs": [
    {
     "name": "stdout",
     "output_type": "stream",
     "text": [
      "Namespace(A_value=None, B_value=None)\n",
      "a, b:10, 20\n",
      "10\n",
      "20\n",
      "30\n"
     ]
    }
   ],
   "source": [
    "import argparse\n",
    "parser = argparse.ArgumentParser(description='Sum two integers.')\n",
    "parser.add_argument('-a', \"--a_value\", dest=\"A_value\", help=\"A integers\", type=int)\n",
    "parser.add_argument('-b', \"--b_value\", dest=\"B_value\", help=\"B integers\", type=int)\n",
    "\n",
    "args = parser.parse_args(args=[]) # args=[]를 넣어줘야 주피터에서 실행된다.\n",
    "print(args)\n",
    "args.a, args.b = map(int, input(\"a, b:\").split(',')) # 주피터에서 argparse 쓰기위해 input을 사용\n",
    "\n",
    "print(args.a)\n",
    "print(args.b)\n",
    "print(args.a + args.b)"
   ]
  },
  {
   "cell_type": "markdown",
   "id": "956e50a3",
   "metadata": {},
   "source": [
    "### Logging formmater"
   ]
  },
  {
   "cell_type": "code",
   "execution_count": 55,
   "id": "5aa20756",
   "metadata": {
    "ExecuteTime": {
     "end_time": "2022-09-22T03:17:44.590902Z",
     "start_time": "2022-09-22T03:17:44.570361Z"
    }
   },
   "outputs": [
    {
     "name": "stderr",
     "output_type": "stream",
     "text": [
      "WARNING:root:워닝\n",
      "2022-09-22 12:17:44,576 WARNING 51085 워닝\n",
      "ERROR:root:에뤄\n",
      "2022-09-22 12:17:44,585 ERROR 51085 에뤄\n",
      "CRITICAL:root:크뤼티칼!\n",
      "2022-09-22 12:17:44,586 CRITICAL 51085 크뤼티칼!\n"
     ]
    }
   ],
   "source": [
    "import logging\n",
    "\n",
    "if __name__=='__main__':\n",
    "    # 날짜 시간  레벨  processID  메시지\n",
    "    formatter = logging.Formatter('%(asctime)s %(levelname)s %(process)d %(message)s')\n",
    "    logger = logging.getLogger()\n",
    "    \n",
    "    # formatter 추가 -> stream_handler\n",
    "    stream_handler = logging.StreamHandler()\n",
    "    stream_handler.setFormatter(formatter)\n",
    "    logger.addHandler(stream_handler)\n",
    "    \n",
    "    # default 레벨은 warning부터\n",
    "    # level을 Debug로 바꿔서 모든 로깅 다 나오게 설정\n",
    "    logging.basicConfig(level=logging.DEBUG)\n",
    "    \n",
    "    logger.debug(\"디버그\")\n",
    "    logger.info(\"인포\")\n",
    "    logger.warning(\"워닝\")\n",
    "    logger.error(\"에뤄\")\n",
    "    logger.critical(\"크뤼티칼!\")"
   ]
  },
  {
   "cell_type": "markdown",
   "id": "4fb6f57d",
   "metadata": {},
   "source": [
    "#### logging.conf 파일 읽어와서 로깅"
   ]
  },
  {
   "cell_type": "code",
   "execution_count": 57,
   "id": "048c6ed2",
   "metadata": {
    "ExecuteTime": {
     "end_time": "2022-09-22T03:18:15.317600Z",
     "start_time": "2022-09-22T03:18:15.305915Z"
    }
   },
   "outputs": [
    {
     "name": "stdout",
     "output_type": "stream",
     "text": [
      "2022.09.22 12:18:15 PM - root - DEBUG - 디버그\n",
      "2022.09.22 12:18:15 PM - root - INFO - 인포\n",
      "2022.09.22 12:18:15 PM - root - WARNING - 워닝\n",
      "2022.09.22 12:18:15 PM - root - ERROR - 에뤄\n",
      "2022.09.22 12:18:15 PM - root - CRITICAL - 크뤼티칼!\n"
     ]
    }
   ],
   "source": [
    "import logging\n",
    "import logging.config\n",
    "\n",
    "logging.config.fileConfig('logging.conf')\n",
    "conf_logger = logging.getLogger()\n",
    "\n",
    "logger.debug(\"디버그\")\n",
    "logger.info(\"인포\")\n",
    "logger.warning(\"워닝\")\n",
    "logger.error(\"에뤄\")\n",
    "logger.critical(\"크뤼티칼!\")"
   ]
  }
 ],
 "metadata": {
  "kernelspec": {
   "display_name": "Python 3",
   "language": "python",
   "name": "python3"
  },
  "language_info": {
   "codemirror_mode": {
    "name": "ipython",
    "version": 3
   },
   "file_extension": ".py",
   "mimetype": "text/x-python",
   "name": "python",
   "nbconvert_exporter": "python",
   "pygments_lexer": "ipython3",
   "version": "3.8.12"
  },
  "toc": {
   "base_numbering": 1,
   "nav_menu": {},
   "number_sections": true,
   "sideBar": true,
   "skip_h1_title": false,
   "title_cell": "Table of Contents",
   "title_sidebar": "Contents",
   "toc_cell": false,
   "toc_position": {},
   "toc_section_display": true,
   "toc_window_display": true
  }
 },
 "nbformat": 4,
 "nbformat_minor": 5
}
